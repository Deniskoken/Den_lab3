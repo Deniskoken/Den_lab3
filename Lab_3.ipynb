{
 "cells": [
  {
   "cell_type": "markdown",
   "id": "556a3844-b57d-4de9-b9cf-69ded4ff18bf",
   "metadata": {},
   "source": [
    "CLASSES"
   ]
  },
  {
   "cell_type": "code",
   "execution_count": 273,
   "id": "07db352b-7054-47ec-80a3-06de400b8e7b",
   "metadata": {},
   "outputs": [
    {
     "name": "stdin",
     "output_type": "stream",
     "text": [
      "string:  vbn\n"
     ]
    },
    {
     "name": "stdout",
     "output_type": "stream",
     "text": [
      "VBN\n"
     ]
    }
   ],
   "source": [
    "#1\n",
    "\n",
    "class StringManipulator:\n",
    "    def getString(self):\n",
    "        self.input_string = input(\"string: \")\n",
    "    def printString(self):\n",
    "        print(self.input_string.upper())\n",
    "\n",
    "sm = StringManipulator()\n",
    "sm.getString()\n",
    "sm.printString()\n"
   ]
  },
  {
   "cell_type": "code",
   "execution_count": 241,
   "id": "a86c7ab6-6f54-4bf4-82c9-667fa87b8f85",
   "metadata": {},
   "outputs": [
    {
     "name": "stdout",
     "output_type": "stream",
     "text": [
      "Shape area: 0\n",
      "Square area: 16\n"
     ]
    }
   ],
   "source": [
    "#2\n",
    "\n",
    "class Shape:\n",
    "    def area(self):\n",
    "        return 0\n",
    "class Square(Shape):\n",
    "    def __init__(self, length):\n",
    "        self.length = length  \n",
    "    def area(self):\n",
    "        return self.length * self.length\n",
    "shape = Shape()\n",
    "square = Square(4)\n",
    "print(\"Shape area:\", shape.area())\n",
    "print(\"Square area:\", square.area())\n"
   ]
  },
  {
   "cell_type": "code",
   "execution_count": 247,
   "id": "19948d19-2063-4484-aaa5-8f530544d351",
   "metadata": {},
   "outputs": [
    {
     "name": "stdout",
     "output_type": "stream",
     "text": [
      "Shape area: 0\n",
      "Square area: 16\n",
      "Rectangle area: 24\n"
     ]
    }
   ],
   "source": [
    "#3\n",
    "\n",
    "class Shape:\n",
    "    def area(self):\n",
    "        return 0\n",
    "class Square(Shape):\n",
    "    def __init__(self, length):\n",
    "        self.length = length\n",
    "    def area(self):\n",
    "        return self.length * self.length\n",
    "class Rectangle(Shape):\n",
    "    def __init__(self, length, width):\n",
    "        self.length = length\n",
    "        self.width = width   \n",
    "    def area(self):\n",
    "        return self.length * self.width\n",
    "        \n",
    "shape = Shape()\n",
    "square = Square(4)\n",
    "rectangle = Rectangle(4, 6)\n",
    "print(\"Shape area:\", shape.area())\n",
    "print(\"Square area:\", square.area())\n",
    "print(\"Rectangle area:\", rectangle.area())\n"
   ]
  },
  {
   "cell_type": "code",
   "execution_count": 249,
   "id": "cb11c717-6dc0-45da-b979-3c3a4615ed0c",
   "metadata": {},
   "outputs": [
    {
     "name": "stdout",
     "output_type": "stream",
     "text": [
      "Point coordinates: (3, 4)\n",
      "Point coordinates: (6, 8)\n",
      "Distance: 5.0\n",
      "Point coordinates: (10, 12)\n"
     ]
    }
   ],
   "source": [
    "#4\n",
    "\n",
    "import math\n",
    "class Point:\n",
    "    def __init__(self, x, y):\n",
    "        self.x = x\n",
    "        self.y = y  \n",
    "    def show(self):\n",
    "        print(f\"Point coordinates: ({self.x}, {self.y})\")\n",
    "    def move(self, new_x, new_y):\n",
    "        self.x = new_x\n",
    "        self.y = new_y \n",
    "    def dist(self, other_point):\n",
    "        return math.sqrt((self.x - other_point.x) ** 2 + (self.y - other_point.y) ** 2)\n",
    "p1 = Point(3, 4)\n",
    "p2 = Point(6, 8)\n",
    "p1.show()\n",
    "p2.show()\n",
    "print(\"Distance:\", p1.dist(p2))\n",
    "p1.move(10, 12)\n",
    "p1.show()\n"
   ]
  },
  {
   "cell_type": "code",
   "execution_count": 253,
   "id": "003af02d-9b7f-4913-af4e-8c3c942fb7e1",
   "metadata": {},
   "outputs": [
    {
     "name": "stdout",
     "output_type": "stream",
     "text": [
      "Den's Balance: $100\n",
      "Deposited: $50\n",
      "Withdrew: $30\n",
      "Insufficient funds or invalid amount.\n",
      "Den's Balance: $120\n"
     ]
    }
   ],
   "source": [
    "#5\n",
    "\n",
    "class Account:\n",
    "    def __init__(self, owner, balance=0):\n",
    "        self.owner = owner\n",
    "        self.balance = balance\n",
    "\n",
    "    def deposit(self, amount):\n",
    "        if amount > 0:\n",
    "            self.balance += amount\n",
    "            print(f\"Deposited: ${amount}\")\n",
    "\n",
    "    def withdraw(self, amount):\n",
    "        if 0 < amount <= self.balance:\n",
    "            self.balance -= amount\n",
    "            print(f\"Withdrew: ${amount}\")\n",
    "        else:\n",
    "            print(\"Insufficient funds or invalid amount.\")\n",
    "\n",
    "    def __str__(self):\n",
    "        return f\"{self.owner}'s Balance: ${self.balance}\"\n",
    "\n",
    "\n",
    "account = Account(\"Den\", 100)\n",
    "print(account)\n",
    "account.deposit(50)\n",
    "account.withdraw(30)\n",
    "account.withdraw(200)\n",
    "print(account)\n",
    "\n"
   ]
  },
  {
   "cell_type": "code",
   "execution_count": 257,
   "id": "7fc5fb90-35d6-4272-ae1f-ff94003a8516",
   "metadata": {},
   "outputs": [
    {
     "name": "stdout",
     "output_type": "stream",
     "text": [
      "Prime numbers: [17, 19, 23, 29, 31, 37]\n"
     ]
    }
   ],
   "source": [
    "#6\n",
    "\n",
    "def is_prime(n):\n",
    "    if n < 2:\n",
    "        return False\n",
    "    for i in range(2, n):\n",
    "        if n % i == 0:\n",
    "            return False\n",
    "    return True\n",
    "numbers = [10, 15, 17, 19, 23, 24, 29, 30, 31, 37]\n",
    "prime_numbers = list(filter(lambda x: is_prime(x), numbers))\n",
    "print(\"Prime numbers:\", prime_numbers)\n"
   ]
  },
  {
   "cell_type": "code",
   "execution_count": null,
   "id": "c5c3fbec-3ef9-409e-9b40-dfa5c4451e02",
   "metadata": {},
   "outputs": [],
   "source": []
  },
  {
   "cell_type": "code",
   "execution_count": null,
   "id": "53ea4796-1df7-48df-bb59-fe30c0938b4d",
   "metadata": {},
   "outputs": [],
   "source": []
  },
  {
   "cell_type": "code",
   "execution_count": null,
   "id": "0022e409-1454-4c2b-84fb-c617335d21b6",
   "metadata": {},
   "outputs": [],
   "source": []
  },
  {
   "cell_type": "code",
   "execution_count": null,
   "id": "10eaa4c9-a971-45d9-af67-129e95207e07",
   "metadata": {},
   "outputs": [],
   "source": []
  },
  {
   "cell_type": "code",
   "execution_count": null,
   "id": "2c96bda0-1d92-46ca-ab0b-d3ec28024f35",
   "metadata": {},
   "outputs": [],
   "source": []
  },
  {
   "cell_type": "code",
   "execution_count": null,
   "id": "5bbfd773-996f-47c9-963f-254658865900",
   "metadata": {},
   "outputs": [],
   "source": []
  },
  {
   "cell_type": "markdown",
   "id": "f5f811d3-d6ed-43c3-bd07-15b9c211eef1",
   "metadata": {},
   "source": [
    "Functions 1"
   ]
  },
  {
   "cell_type": "code",
   "execution_count": 225,
   "id": "0099bd12-18b6-4423-bee3-86552dac1ed3",
   "metadata": {},
   "outputs": [
    {
     "data": {
      "text/plain": [
       "1373676.1418105"
      ]
     },
     "execution_count": 225,
     "metadata": {},
     "output_type": "execute_result"
    }
   ],
   "source": [
    "#1\n",
    "def grams_to_ounces(grams):\n",
    "    ounces = 28.3495231 * grams\n",
    "    return ounces\n",
    "\n",
    "grams_to_ounces(48455)\n"
   ]
  },
  {
   "cell_type": "code",
   "execution_count": 227,
   "id": "e913a9c2-b104-428d-9605-12b9051d49d6",
   "metadata": {},
   "outputs": [
    {
     "data": {
      "text/plain": [
       "248.8888888888889"
      ]
     },
     "execution_count": 227,
     "metadata": {},
     "output_type": "execute_result"
    }
   ],
   "source": [
    "#2\n",
    "def fahrenheit_to_centigrade(fahrenheit):\n",
    "    centigrade = (5 / 9) * (fahrenheit - 32)\n",
    "    return centigrade\n",
    "\n",
    "fahrenheit_to_centigrade(480)"
   ]
  },
  {
   "cell_type": "code",
   "execution_count": 229,
   "id": "1c6f31c2-f170-4142-9ce9-f2e0dc55d5da",
   "metadata": {},
   "outputs": [
    {
     "name": "stdout",
     "output_type": "stream",
     "text": [
      "Num of chickens: 23 \n",
      "Num of rabbits: 12\n"
     ]
    }
   ],
   "source": [
    "#3\n",
    "def solve(numheads, numlegs):\n",
    "    x = (4 * numheads - numlegs) // 2  # number of chickens\n",
    "    y = numheads - x  # number of rabbits\n",
    "    return f\"Num of chickens: {x} \\nNum of rabbits: {y}\"\n",
    "\n",
    "print(solve(35,94))"
   ]
  },
  {
   "cell_type": "code",
   "execution_count": 275,
   "id": "34212688-184b-4cf8-ba94-071460260e4b",
   "metadata": {},
   "outputs": [
    {
     "name": "stdin",
     "output_type": "stream",
     "text": [
      "Enter numbers separated by spaces:  6 5 4 3 2\n"
     ]
    },
    {
     "name": "stdout",
     "output_type": "stream",
     "text": [
      "Prime numbers: [5, 3, 2]\n"
     ]
    }
   ],
   "source": [
    "#4\n",
    "\n",
    "def is_prime(n):\n",
    "    if n < 2:\n",
    "        return False\n",
    "    for i in range(2, n):\n",
    "        if n % i == 0:\n",
    "            return False\n",
    "    return True\n",
    "def filter_prime(numbers):\n",
    "    return [n for n in numbers if is_prime(n)]\n",
    "numbers = list(map(int, input(\"Enter numbers separated by SPACES: \").split()))\n",
    "prime_numbers = filter_prime(numbers)\n",
    "print(\"Prime numbers:\", prime_numbers)\n",
    "\n"
   ]
  },
  {
   "cell_type": "code",
   "execution_count": 277,
   "id": "2f045e17-8ee3-41dd-be55-c04463721ff7",
   "metadata": {},
   "outputs": [
    {
     "name": "stdin",
     "output_type": "stream",
     "text": [
      "Enter a string:  bnm,\n"
     ]
    },
    {
     "name": "stdout",
     "output_type": "stream",
     "text": [
      "Permutations: ['bnm,', 'bn,m', 'bmn,', 'bm,n', 'b,nm', 'b,mn', 'nbm,', 'nb,m', 'nmb,', 'nm,b', 'n,bm', 'n,mb', 'mbn,', 'mb,n', 'mnb,', 'mn,b', 'm,bn', 'm,nb', ',bnm', ',bmn', ',nbm', ',nmb', ',mbn', ',mnb']\n"
     ]
    }
   ],
   "source": [
    "#5\n",
    "\n",
    "from itertools import permutations\n",
    "def print_permutations():\n",
    "    user_input = input(\"Enter a string: \")\n",
    "    perms = [''.join(p) for p in permutations(user_input)]\n",
    "    print(\"Permutations:\", perms)\n",
    "print_permutations()"
   ]
  },
  {
   "cell_type": "code",
   "execution_count": 89,
   "id": "ea572c85-22bd-417e-af73-1b50801ad574",
   "metadata": {},
   "outputs": [
    {
     "name": "stdin",
     "output_type": "stream",
     "text": [
      "sentence:  bn bn kjhg\n"
     ]
    },
    {
     "name": "stdout",
     "output_type": "stream",
     "text": [
      "kjhg bn bn\n"
     ]
    }
   ],
   "source": [
    "#6\n",
    "\n",
    "def reverse_words():\n",
    "    user_input = input(\"sentence: \")\n",
    "    words = user_input.split()\n",
    "    result = ' '.join(reversed(words))  \n",
    "    return result\n",
    "\n",
    "print(reverse_words())\n"
   ]
  },
  {
   "cell_type": "code",
   "execution_count": 107,
   "id": "3ef71ca0-a19c-4193-997a-d69574bdcd64",
   "metadata": {},
   "outputs": [
    {
     "name": "stdout",
     "output_type": "stream",
     "text": [
      "True\n"
     ]
    }
   ],
   "source": [
    "#7\n",
    "\n",
    "def has_33(nums):\n",
    "    for i in range(len(nums) - 1):\n",
    "        if nums[i] == 3 and nums[i + 1] == 3:\n",
    "            return True\n",
    "    return False\n",
    "\n",
    "print(has_33([3, 4, 5 ,7 ,3, 3, 2]))\n",
    "\n"
   ]
  },
  {
   "cell_type": "code",
   "execution_count": 109,
   "id": "3455ec3c-6907-4169-a842-fe20c787d043",
   "metadata": {},
   "outputs": [
    {
     "name": "stdout",
     "output_type": "stream",
     "text": [
      "True\n"
     ]
    }
   ],
   "source": [
    "#8\n",
    "\n",
    "def spy_game(nums):\n",
    "    sequence = [0, 0, 7]\n",
    "    seq_index = 0\n",
    "    \n",
    "    for num in nums:\n",
    "        if num == sequence[seq_index]:\n",
    "            seq_index += 1\n",
    "            if seq_index == len(sequence):\n",
    "                return True\n",
    "    \n",
    "    return False\n",
    "    \n",
    "print(spy_game([4, 6, 0, 2, 4, 0, 6, 7,])) "
   ]
  },
  {
   "cell_type": "code",
   "execution_count": 121,
   "id": "58137106-d461-4b3b-b337-40b4c3daf08b",
   "metadata": {},
   "outputs": [
    {
     "data": {
      "text/plain": [
       "904.752"
      ]
     },
     "execution_count": 121,
     "metadata": {},
     "output_type": "execute_result"
    }
   ],
   "source": [
    "#9\n",
    "\n",
    "def sphera_volume(radius):\n",
    "    volume = (4/3) * 3.1415 * (radius ** 3)\n",
    "    return volume\n",
    "\n",
    "sphera_volume(6)"
   ]
  },
  {
   "cell_type": "code",
   "execution_count": 131,
   "id": "a833b60c-6fa7-40b7-b154-857186f74e58",
   "metadata": {},
   "outputs": [
    {
     "name": "stdout",
     "output_type": "stream",
     "text": [
      "[4, 5, 6, 2, 3, 1]\n"
     ]
    }
   ],
   "source": [
    "#10\n",
    "\n",
    "def unique(input_list):\n",
    "    lst = []\n",
    "    for i in input_list:\n",
    "        if i not in lst:\n",
    "            lst.append(i)\n",
    "    return lst\n",
    "\n",
    "print(unique([4,5,6,4,4,6,6,2,4,5,5,3,2,4,1]))"
   ]
  },
  {
   "cell_type": "code",
   "execution_count": 139,
   "id": "8f8e4509-8fad-40dd-ab2b-b533a06e7432",
   "metadata": {},
   "outputs": [
    {
     "data": {
      "text/plain": [
       "True"
      ]
     },
     "execution_count": 139,
     "metadata": {},
     "output_type": "execute_result"
    }
   ],
   "source": [
    "#11\n",
    "\n",
    "def is_palindrome(word):\n",
    "    word = word.replace(\" \", \"\").lower()\n",
    "    return word == word[::-1]\n",
    "    \n",
    "is_palindrome(\"kazzak\")"
   ]
  },
  {
   "cell_type": "code",
   "execution_count": 147,
   "id": "5d807899-eac8-4898-97a5-cc334c3b5793",
   "metadata": {},
   "outputs": [
    {
     "name": "stdout",
     "output_type": "stream",
     "text": [
      "***\n",
      "****\n",
      "***\n"
     ]
    }
   ],
   "source": [
    "#12\n",
    "\n",
    "def histogram(lst):\n",
    "    for num in lst:\n",
    "        print('*' * num)\n",
    "\n",
    "histogram([3,4,3])\n"
   ]
  },
  {
   "cell_type": "code",
   "execution_count": 155,
   "id": "6fc6c394-6ef3-4d51-b8ae-2b0c57a57fbc",
   "metadata": {},
   "outputs": [
    {
     "name": "stdout",
     "output_type": "stream",
     "text": [
      "Hello! What is your name?\n"
     ]
    },
    {
     "name": "stdin",
     "output_type": "stream",
     "text": [
      " Osken\n"
     ]
    },
    {
     "name": "stdout",
     "output_type": "stream",
     "text": [
      "Well, Osken, I am thinking of a number between 1 and 20.\n",
      "Take a guess.\n"
     ]
    },
    {
     "name": "stdin",
     "output_type": "stream",
     "text": [
      " 18\n"
     ]
    },
    {
     "name": "stdout",
     "output_type": "stream",
     "text": [
      "Your guess is too high.\n",
      "Take a guess.\n"
     ]
    },
    {
     "name": "stdin",
     "output_type": "stream",
     "text": [
      " 5\n"
     ]
    },
    {
     "name": "stdout",
     "output_type": "stream",
     "text": [
      "Your guess is too low.\n",
      "Take a guess.\n"
     ]
    },
    {
     "name": "stdin",
     "output_type": "stream",
     "text": [
      " 10\n"
     ]
    },
    {
     "name": "stdout",
     "output_type": "stream",
     "text": [
      "Your guess is too high.\n",
      "Take a guess.\n"
     ]
    },
    {
     "name": "stdin",
     "output_type": "stream",
     "text": [
      " 8\n"
     ]
    },
    {
     "name": "stdout",
     "output_type": "stream",
     "text": [
      "Good job, Osken! You guessed my number in 4 guesses!\n"
     ]
    }
   ],
   "source": [
    "#13\n",
    "\n",
    "import random\n",
    "\n",
    "def guess_the_number():\n",
    "    print(\"Hello! What is your name?\")\n",
    "    name = input()\n",
    "    print(f\"Well, {name}, I am thinking of a number between 1 and 20.\")\n",
    "    my_num = random.randint(1, 20)\n",
    "    guesses = 0\n",
    "    while True:\n",
    "        print(\"Take a guess.\")\n",
    "        guess = int(input())\n",
    "        guesses += 1   \n",
    "        if guess < my_num:\n",
    "            print(\"Your guess is too low.\")\n",
    "        elif guess > my_num:\n",
    "            print(\"Your guess is too high.\")\n",
    "        else:\n",
    "            print(f\"Good job, {name}! You guessed my number in {guesses} guesses!\")\n",
    "            break\n",
    "\n",
    "guess_the_number()\n"
   ]
  },
  {
   "cell_type": "code",
   "execution_count": null,
   "id": "4c56cfa5-d49d-4162-b8e5-8cf403bf2df3",
   "metadata": {},
   "outputs": [],
   "source": [
    "#14\n",
    "\n",
    "def sphere_volume(radius):\n",
    "    return (4/3) * 3.1415 * (radius ** 3)\n",
    "\n",
    "def unique_elements(input_list):\n",
    "    unique_list = []\n",
    "    for item in input_list:\n",
    "        if item not in unique_list:\n",
    "            unique_list.append(item)\n",
    "    return unique_list\n",
    "\n",
    "def is_palindrome(word):\n",
    "    word = word.replace(\" \", \"\").lower()\n",
    "    return word == word[::-1]\n"
   ]
  },
  {
   "cell_type": "code",
   "execution_count": null,
   "id": "9c4fcd52-4fc6-446f-8bfe-9305b983729f",
   "metadata": {},
   "outputs": [],
   "source": []
  },
  {
   "cell_type": "code",
   "execution_count": null,
   "id": "368451d3-08c3-4432-aacd-0dabe11b7573",
   "metadata": {},
   "outputs": [],
   "source": []
  },
  {
   "cell_type": "code",
   "execution_count": null,
   "id": "db9dd620-ffef-4ea2-9baa-8135a173cdcd",
   "metadata": {},
   "outputs": [],
   "source": []
  },
  {
   "cell_type": "code",
   "execution_count": null,
   "id": "9a50b88f-8156-4d91-a468-10e24e6877fd",
   "metadata": {},
   "outputs": [],
   "source": []
  },
  {
   "cell_type": "markdown",
   "id": "f842fbf0-9b5e-48d5-804d-cf46bed8f661",
   "metadata": {},
   "source": [
    "Functions 2"
   ]
  },
  {
   "cell_type": "code",
   "execution_count": 181,
   "id": "c5e34bbd-c265-4fef-b632-6e97ccc0b4aa",
   "metadata": {},
   "outputs": [
    {
     "name": "stdout",
     "output_type": "stream",
     "text": [
      "True\n"
     ]
    }
   ],
   "source": [
    "#1\n",
    "\n",
    "# Dictionary of movies\n",
    "\n",
    "movies = [\n",
    "{\n",
    "\"name\": \"Usual Suspects\", \n",
    "\"imdb\": 7.0,\n",
    "\"category\": \"Thriller\"\n",
    "},\n",
    "{\n",
    "\"name\": \"Hitman\",\n",
    "\"imdb\": 6.3,\n",
    "\"category\": \"Action\"\n",
    "},\n",
    "{\n",
    "\"name\": \"Dark Knight\",\n",
    "\"imdb\": 9.0,\n",
    "\"category\": \"Adventure\"\n",
    "},\n",
    "{\n",
    "\"name\": \"The Help\",\n",
    "\"imdb\": 8.0,\n",
    "\"category\": \"Drama\"\n",
    "},\n",
    "{\n",
    "\"name\": \"The Choice\",\n",
    "\"imdb\": 6.2,\n",
    "\"category\": \"Romance\"\n",
    "},\n",
    "{\n",
    "\"name\": \"Colonia\",\n",
    "\"imdb\": 7.4,\n",
    "\"category\": \"Romance\"\n",
    "},\n",
    "{\n",
    "\"name\": \"Love\",\n",
    "\"imdb\": 6.0,\n",
    "\"category\": \"Romance\"\n",
    "},\n",
    "{\n",
    "\"name\": \"Bride Wars\",\n",
    "\"imdb\": 5.4,\n",
    "\"category\": \"Romance\"\n",
    "},\n",
    "{\n",
    "\"name\": \"AlphaJet\",\n",
    "\"imdb\": 3.2,\n",
    "\"category\": \"War\"\n",
    "},\n",
    "{\n",
    "\"name\": \"Ringing Crime\",\n",
    "\"imdb\": 4.0,\n",
    "\"category\": \"Crime\"\n",
    "},\n",
    "{\n",
    "\"name\": \"Joking muck\",\n",
    "\"imdb\": 7.2,\n",
    "\"category\": \"Comedy\"\n",
    "},\n",
    "{\n",
    "\"name\": \"What is the name\",\n",
    "\"imdb\": 9.2,\n",
    "\"category\": \"Suspense\"\n",
    "},\n",
    "{\n",
    "\"name\": \"Detective\",\n",
    "\"imdb\": 7.0,\n",
    "\"category\": \"Suspense\"\n",
    "},\n",
    "{\n",
    "\"name\": \"Exam\",\n",
    "\"imdb\": 4.2,\n",
    "\"category\": \"Thriller\"\n",
    "},\n",
    "{\n",
    "\"name\": \"We Two\",\n",
    "\"imdb\": 7.2,\n",
    "\"category\": \"Romance\"\n",
    "}\n",
    "]\n",
    "\n",
    "\n",
    "#1\n",
    "def is_good(movie):\n",
    "    return movie['imdb'] > 5.5\n",
    "\n",
    "\n",
    "result = is_good(movie)\n",
    "print(result)\n"
   ]
  },
  {
   "cell_type": "code",
   "execution_count": 299,
   "id": "d8a685ef-77e8-4c55-91a8-71edb5b5a78c",
   "metadata": {},
   "outputs": [
    {
     "name": "stdout",
     "output_type": "stream",
     "text": [
      "[{'name': 'Usual Suspects', 'imdb': 7.0, 'category': 'Thriller'}, {'name': 'Hitman', 'imdb': 6.3, 'category': 'Action'}, {'name': 'Dark Knight', 'imdb': 9.0, 'category': 'Adventure'}, {'name': 'The Help', 'imdb': 8.0, 'category': 'Drama'}, {'name': 'The Choice', 'imdb': 6.2, 'category': 'Romance'}, {'name': 'Colonia', 'imdb': 7.4, 'category': 'Romance'}, {'name': 'Love', 'imdb': 6.0, 'category': 'Romance'}, {'name': 'Joking muck', 'imdb': 7.2, 'category': 'Comedy'}, {'name': 'What is the name', 'imdb': 9.2, 'category': 'Suspense'}, {'name': 'Detective', 'imdb': 7.0, 'category': 'Suspense'}, {'name': 'We Two', 'imdb': 7.2, 'category': 'Romance'}]\n"
     ]
    }
   ],
   "source": [
    "#2\n",
    "\n",
    "def _imdb(movies):\n",
    "    return [movie for movie in movies if movie['imdb'] > 5.5]\n",
    "print(_imdb(movies))"
   ]
  },
  {
   "cell_type": "code",
   "execution_count": 291,
   "id": "d34d69bd-a2ac-4983-86f5-9d2a0374876d",
   "metadata": {},
   "outputs": [
    {
     "name": "stdout",
     "output_type": "stream",
     "text": [
      "[{'name': 'The Choice', 'imdb': 6.2, 'category': 'Romance'}, {'name': 'Colonia', 'imdb': 7.4, 'category': 'Romance'}, {'name': 'Love', 'imdb': 6.0, 'category': 'Romance'}, {'name': 'Bride Wars', 'imdb': 5.4, 'category': 'Romance'}, {'name': 'We Two', 'imdb': 7.2, 'category': 'Romance'}]\n"
     ]
    }
   ],
   "source": [
    "#3\n",
    "\n",
    "def category(movies, category_name):\n",
    "    return [movie for movie in movies if movie['category'].lower() == category_name.lower()]\n",
    "\n",
    "\n",
    "res = category(movies, \"Romance\")\n",
    "print(res)"
   ]
  },
  {
   "cell_type": "code",
   "execution_count": 289,
   "id": "1bac9cb5-71d5-499b-b0bf-c54d97dcd622",
   "metadata": {},
   "outputs": [
    {
     "name": "stdout",
     "output_type": "stream",
     "text": [
      "6.486666666666666\n"
     ]
    }
   ],
   "source": [
    "#4\n",
    "\n",
    "def avg(movies):\n",
    "    return sum(movie['imdb'] for movie in movies) / len(movies)\n",
    "\n",
    "avg_imdb = avg(movies)\n",
    "print(avg_imdb)\n"
   ]
  },
  {
   "cell_type": "code",
   "execution_count": 307,
   "id": "da07d835-9e8f-4402-8c53-0707a96dd1ed",
   "metadata": {},
   "outputs": [
    {
     "name": "stdin",
     "output_type": "stream",
     "text": [
      "Enter category:  jhgf\n"
     ]
    },
    {
     "name": "stdout",
     "output_type": "stream",
     "text": [
      "Average IMDB score: 0\n"
     ]
    }
   ],
   "source": [
    "#5\n",
    "def avg_imdb(movies, category):\n",
    "    filtered = [movie['imdb'] for movie in movies if movie['category'] == category]\n",
    "    if not filtered:\n",
    "        return 0\n",
    "    return sum(filtered) / len(filtered)\n",
    "\n",
    "category = input(\"Enter category: \")\n",
    "print(\"Average IMDB score:\", avg_imdb(movies, category))\n"
   ]
  },
  {
   "cell_type": "code",
   "execution_count": null,
   "id": "adcb7fa2-bed2-4352-9c8f-7027577f6d90",
   "metadata": {},
   "outputs": [],
   "source": []
  }
 ],
 "metadata": {
  "kernelspec": {
   "display_name": "Python [conda env:base] *",
   "language": "python",
   "name": "conda-base-py"
  },
  "language_info": {
   "codemirror_mode": {
    "name": "ipython",
    "version": 3
   },
   "file_extension": ".py",
   "mimetype": "text/x-python",
   "name": "python",
   "nbconvert_exporter": "python",
   "pygments_lexer": "ipython3",
   "version": "3.12.7"
  }
 },
 "nbformat": 4,
 "nbformat_minor": 5
}
